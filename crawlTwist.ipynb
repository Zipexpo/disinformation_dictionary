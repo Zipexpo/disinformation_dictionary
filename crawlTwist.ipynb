{
 "cells": [
  {
   "cell_type": "code",
   "execution_count": 6,
   "outputs": [],
   "source": [
    "\"\"\"\n",
    "Scroll and Scrape main application file.\n",
    "\"\"\"\n",
    "import time\n",
    "import urllib.parse\n",
    "\n",
    "from selenium import webdriver\n",
    "\n",
    "options = webdriver.ChromeOptions()\n",
    "options.add_experimental_option('excludeSwitches', ['enable-logging'])\n",
    "browser = None\n",
    "\n",
    "# browser = webdriver.Chrome()\n",
    "\n",
    "MAX_STOPS = 3\n",
    "\n",
    "\n",
    "def scroll(url,_map):\n",
    "    \"\"\"\n",
    "    Scroll through HTML page for given URL.\n",
    "\n",
    "    Stop scrolling if height has not increased since last scroll.\n",
    "    This might also mean that the connection has stopped and the script is\n",
    "    not aware of the connection error.\n",
    "\n",
    "    When the end appears to be reached, add in a check to wait a bit and then\n",
    "    check again a few times, to check we are really at the end. Reset the count\n",
    "    whenever we have scrolled successfully.\n",
    "    \"\"\"\n",
    "    browser.get(url)\n",
    "    time.sleep(2)\n",
    "\n",
    "    current_height = browser.execute_script(\"return document.body.scrollHeight\")\n",
    "\n",
    "    stops = 0\n",
    "    \n",
    "    while True:\n",
    "        browser.execute_script(\"window.scrollTo(0, document.body.scrollHeight);\")\n",
    "        time.sleep(2)\n",
    "        \n",
    "        new_height = browser.execute_script(\"return document.body.scrollHeight\")\n",
    "        \n",
    "        if new_height == current_height:\n",
    "            stops += 1\n",
    "            handleTweet(_map)\n",
    "            if stops == MAX_STOPS:\n",
    "                break\n",
    "            time.sleep(5)\n",
    "        else:\n",
    "            handleTweet(_map)\n",
    "            current_height = new_height\n",
    "            stops = 0\n",
    "def handleTweet(_map):\n",
    "    tweets = browser.find_elements_by_tag_name(\"article\")\n",
    "    print('# tweet', len(tweets))\n",
    "    for tweet in tweets:\n",
    "        tweet_id = tweet.find_element_by_xpath(\"//time\").find_element_by_xpath(\"./..\").get_attribute(\"href\")\n",
    "        time = tweet.find_element_by_xpath(\"//time\").text\n",
    "        _map[str(tweet_id)] = time\n",
    "    return _map\n",
    "\n",
    "def getUrl(source,_from,_to):    \n",
    "    text_query = f'From:{source} since:{_from} until:{_to}'\n",
    "    # Convert characters to be websafe. In particular spaces and punctuation, but keep brackets.\n",
    "    encoded_query = urllib.parse.quote(text_query, safe=\"()\")\n",
    "    \n",
    "    base_url = \"https://twitter.com/search?src=typed_query&f=tweets&q=\"\n",
    "    # base_url = \"https://twitter.com/search?q=\"\n",
    "    url = f\"{base_url}{encoded_query}\"\n",
    "\n",
    "def start(source,_from,_to):\n",
    "    if(browser != None):\n",
    "        browser.quit()\n",
    "    browser = webdriver.Chrome(options=options)\n",
    "    _map = {}\n",
    "    scroll(getUrl(source,_from,_to),_map)\n",
    "    browser.quit()\n",
    "    return _map"
   ],
   "metadata": {
    "collapsed": false,
    "pycharm": {
     "name": "#%%\n",
     "is_executing": false
    }
   }
  },
  {
   "cell_type": "code",
   "execution_count": 7,
   "outputs": [],
   "source": [
    "import pandas as pd\n",
    "from getTopic import handleData\n",
    "from getTopic import df2tweet\n",
    "from tqdm.auto import tqdm\n",
    "from datetime import datetime\n",
    "import json\n",
    "\n",
    "listNews = pd.read_excel(\"data/News List and dictionary.xlsx\",sheet_name='News list')\n",
    "listNews = listNews[pd.isna(listNews[\"Type\"])]\n",
    "\n",
    "def getFromsource(_from,_to):\n",
    "    for i in tqdm(range(0,listNews.shape[0])):\n",
    "        try:\n",
    "            news = listNews.iloc[i]\n",
    "            user_name = news['Twitter Link'].split('/')[-1]\n",
    "            start(user_name,_from,_to)\n",
    "        except:\n",
    "            print('fail')"
   ],
   "metadata": {
    "collapsed": false,
    "pycharm": {
     "name": "#%%\n",
     "is_executing": false
    }
   }
  },
  {
   "cell_type": "code",
   "execution_count": 8,
   "outputs": [
    {
     "data": {
      "text/plain": "                tweetid      userid    user_display_name user_screen_name  \\\n0    720076604769079296  2753211010   Phoenix Daily News  PhoenixDailyNew   \n1    720463270512062464  2630842499      San Diego Daily    DailySanDiego   \n2    721415092831543296  2587843805  KansasCityDailyNews  KansasDailyNews   \n3    721467000000000000  2928870434       Newspeak Daily    NewspeakDaily   \n4    719489604454211584  2601235821     Pittsburgh Today  TodayPittsburgh   \n..                  ...         ...                  ...              ...   \n995  721211355009691648  2495567768  San Francisco Daily     DailySanFran   \n996  720289237250117632  2494112058       San Jose Daily     DailySanJose   \n997  719978207898787840  2587843805  KansasCityDailyNews  KansasDailyNews   \n998  719905252732903424  2495567768  San Francisco Daily     DailySanFran   \n999  721180077917020160  2587843805  KansasCityDailyNews  KansasDailyNews   \n\n       user_reported_location  \\\n0    City of Phoenix, Arizona   \n1               San Diego, CA   \n2             Kansas City, MO   \n3                         NaN   \n4              Pittsburgh, PA   \n..                        ...   \n995         San Francisco, CA   \n996                       USA   \n997           Kansas City, MO   \n998         San Francisco, CA   \n999           Kansas City, MO   \n\n                              user_profile_description user_profile_url  \\\n0    Local news, sports, business, politics, entert...              NaN   \n1    Follow for San Diego's breaking news, special ...              NaN   \n2    Local news, sports, business, politics, entert...              NaN   \n3          it's never too late to reinvent the bicycle              NaN   \n4    Pittsburgh's local news on Twitter. Breaking n...              NaN   \n..                                                 ...              ...   \n995  Follow for San Francisco's breaking news, spec...              NaN   \n996  Follow for San Jose's breaking news, special r...              NaN   \n997  Local news, sports, business, politics, entert...              NaN   \n998  Follow for San Francisco's breaking news, spec...              NaN   \n999  Local news, sports, business, politics, entert...              NaN   \n\n     follower_count  following_count account_creation_date  ... latitude  \\\n0             18574             7903            2014-08-28  ...   absent   \n1             22715             8255            2014-06-22  ...   absent   \n2             29357             6720            2014-06-06  ...   absent   \n3              5816              865            12/13/2014  ...   absent   \n4             20790            10408            2014-06-11  ...   absent   \n..              ...              ...                   ...  ...      ...   \n995           22688             8375            2014-05-15  ...   absent   \n996           20135             9313            2014-05-14  ...   absent   \n997           29357             6720            2014-06-06  ...   absent   \n998           22688             8375            2014-05-15  ...   absent   \n999           29357             6720            2014-06-06  ...   absent   \n\n    longitude quote_count reply_count like_count  retweet_count    hashtags  \\\n0      absent         0.0         0.0        1.0            2.0          []   \n1      absent         0.0         0.0        0.0            0.0  [politics]   \n2      absent         0.0         0.0        1.0            1.0      [news]   \n3      absent         0.0         0.0        0.0            0.0  [politics]   \n4      absent         0.0         0.0        0.0            0.0      [news]   \n..        ...         ...         ...        ...            ...         ...   \n995    absent         0.0         0.0        1.0            1.0          []   \n996    absent         0.0         0.0        0.0            0.0  [politics]   \n997    absent         0.0         0.0        0.0            0.0      [news]   \n998    absent         0.0         0.0        0.0            1.0      [news]   \n999    absent         0.0         0.0        0.0            0.0      [news]   \n\n                                                  urls  user_mentions  \\\n0    [http://www.azcentral.com/story/news/local/pho...            NaN   \n1                                                   []            NaN   \n2                              [http://bit.ly/1r3CV1I]            NaN   \n3                                                   []            NaN   \n4                                                   []            NaN   \n..                                                 ...            ...   \n995                            [http://bit.ly/1p63b9z]            NaN   \n996                                                 []            NaN   \n997                            [http://bit.ly/1UZjOC3]            NaN   \n998                                                 []            NaN   \n999                            [http://bit.ly/1W5FfAk]            NaN   \n\n     poll_choices  \n0             NaN  \n1             NaN  \n2             NaN  \n3             NaN  \n4             NaN  \n..            ...  \n995           NaN  \n996           NaN  \n997           NaN  \n998           NaN  \n999           NaN  \n\n[1000 rows x 31 columns]",
      "text/html": "<div>\n<style scoped>\n    .dataframe tbody tr th:only-of-type {\n        vertical-align: middle;\n    }\n\n    .dataframe tbody tr th {\n        vertical-align: top;\n    }\n\n    .dataframe thead th {\n        text-align: right;\n    }\n</style>\n<table border=\"1\" class=\"dataframe\">\n  <thead>\n    <tr style=\"text-align: right;\">\n      <th></th>\n      <th>tweetid</th>\n      <th>userid</th>\n      <th>user_display_name</th>\n      <th>user_screen_name</th>\n      <th>user_reported_location</th>\n      <th>user_profile_description</th>\n      <th>user_profile_url</th>\n      <th>follower_count</th>\n      <th>following_count</th>\n      <th>account_creation_date</th>\n      <th>...</th>\n      <th>latitude</th>\n      <th>longitude</th>\n      <th>quote_count</th>\n      <th>reply_count</th>\n      <th>like_count</th>\n      <th>retweet_count</th>\n      <th>hashtags</th>\n      <th>urls</th>\n      <th>user_mentions</th>\n      <th>poll_choices</th>\n    </tr>\n  </thead>\n  <tbody>\n    <tr>\n      <th>0</th>\n      <td>720076604769079296</td>\n      <td>2753211010</td>\n      <td>Phoenix Daily News</td>\n      <td>PhoenixDailyNew</td>\n      <td>City of Phoenix, Arizona</td>\n      <td>Local news, sports, business, politics, entert...</td>\n      <td>NaN</td>\n      <td>18574</td>\n      <td>7903</td>\n      <td>2014-08-28</td>\n      <td>...</td>\n      <td>absent</td>\n      <td>absent</td>\n      <td>0.0</td>\n      <td>0.0</td>\n      <td>1.0</td>\n      <td>2.0</td>\n      <td>[]</td>\n      <td>[http://www.azcentral.com/story/news/local/pho...</td>\n      <td>NaN</td>\n      <td>NaN</td>\n    </tr>\n    <tr>\n      <th>1</th>\n      <td>720463270512062464</td>\n      <td>2630842499</td>\n      <td>San Diego Daily</td>\n      <td>DailySanDiego</td>\n      <td>San Diego, CA</td>\n      <td>Follow for San Diego's breaking news, special ...</td>\n      <td>NaN</td>\n      <td>22715</td>\n      <td>8255</td>\n      <td>2014-06-22</td>\n      <td>...</td>\n      <td>absent</td>\n      <td>absent</td>\n      <td>0.0</td>\n      <td>0.0</td>\n      <td>0.0</td>\n      <td>0.0</td>\n      <td>[politics]</td>\n      <td>[]</td>\n      <td>NaN</td>\n      <td>NaN</td>\n    </tr>\n    <tr>\n      <th>2</th>\n      <td>721415092831543296</td>\n      <td>2587843805</td>\n      <td>KansasCityDailyNews</td>\n      <td>KansasDailyNews</td>\n      <td>Kansas City, MO</td>\n      <td>Local news, sports, business, politics, entert...</td>\n      <td>NaN</td>\n      <td>29357</td>\n      <td>6720</td>\n      <td>2014-06-06</td>\n      <td>...</td>\n      <td>absent</td>\n      <td>absent</td>\n      <td>0.0</td>\n      <td>0.0</td>\n      <td>1.0</td>\n      <td>1.0</td>\n      <td>[news]</td>\n      <td>[http://bit.ly/1r3CV1I]</td>\n      <td>NaN</td>\n      <td>NaN</td>\n    </tr>\n    <tr>\n      <th>3</th>\n      <td>721467000000000000</td>\n      <td>2928870434</td>\n      <td>Newspeak Daily</td>\n      <td>NewspeakDaily</td>\n      <td>NaN</td>\n      <td>it's never too late to reinvent the bicycle</td>\n      <td>NaN</td>\n      <td>5816</td>\n      <td>865</td>\n      <td>12/13/2014</td>\n      <td>...</td>\n      <td>absent</td>\n      <td>absent</td>\n      <td>0.0</td>\n      <td>0.0</td>\n      <td>0.0</td>\n      <td>0.0</td>\n      <td>[politics]</td>\n      <td>[]</td>\n      <td>NaN</td>\n      <td>NaN</td>\n    </tr>\n    <tr>\n      <th>4</th>\n      <td>719489604454211584</td>\n      <td>2601235821</td>\n      <td>Pittsburgh Today</td>\n      <td>TodayPittsburgh</td>\n      <td>Pittsburgh, PA</td>\n      <td>Pittsburgh's local news on Twitter. Breaking n...</td>\n      <td>NaN</td>\n      <td>20790</td>\n      <td>10408</td>\n      <td>2014-06-11</td>\n      <td>...</td>\n      <td>absent</td>\n      <td>absent</td>\n      <td>0.0</td>\n      <td>0.0</td>\n      <td>0.0</td>\n      <td>0.0</td>\n      <td>[news]</td>\n      <td>[]</td>\n      <td>NaN</td>\n      <td>NaN</td>\n    </tr>\n    <tr>\n      <th>...</th>\n      <td>...</td>\n      <td>...</td>\n      <td>...</td>\n      <td>...</td>\n      <td>...</td>\n      <td>...</td>\n      <td>...</td>\n      <td>...</td>\n      <td>...</td>\n      <td>...</td>\n      <td>...</td>\n      <td>...</td>\n      <td>...</td>\n      <td>...</td>\n      <td>...</td>\n      <td>...</td>\n      <td>...</td>\n      <td>...</td>\n      <td>...</td>\n      <td>...</td>\n      <td>...</td>\n    </tr>\n    <tr>\n      <th>995</th>\n      <td>721211355009691648</td>\n      <td>2495567768</td>\n      <td>San Francisco Daily</td>\n      <td>DailySanFran</td>\n      <td>San Francisco, CA</td>\n      <td>Follow for San Francisco's breaking news, spec...</td>\n      <td>NaN</td>\n      <td>22688</td>\n      <td>8375</td>\n      <td>2014-05-15</td>\n      <td>...</td>\n      <td>absent</td>\n      <td>absent</td>\n      <td>0.0</td>\n      <td>0.0</td>\n      <td>1.0</td>\n      <td>1.0</td>\n      <td>[]</td>\n      <td>[http://bit.ly/1p63b9z]</td>\n      <td>NaN</td>\n      <td>NaN</td>\n    </tr>\n    <tr>\n      <th>996</th>\n      <td>720289237250117632</td>\n      <td>2494112058</td>\n      <td>San Jose Daily</td>\n      <td>DailySanJose</td>\n      <td>USA</td>\n      <td>Follow for San Jose's breaking news, special r...</td>\n      <td>NaN</td>\n      <td>20135</td>\n      <td>9313</td>\n      <td>2014-05-14</td>\n      <td>...</td>\n      <td>absent</td>\n      <td>absent</td>\n      <td>0.0</td>\n      <td>0.0</td>\n      <td>0.0</td>\n      <td>0.0</td>\n      <td>[politics]</td>\n      <td>[]</td>\n      <td>NaN</td>\n      <td>NaN</td>\n    </tr>\n    <tr>\n      <th>997</th>\n      <td>719978207898787840</td>\n      <td>2587843805</td>\n      <td>KansasCityDailyNews</td>\n      <td>KansasDailyNews</td>\n      <td>Kansas City, MO</td>\n      <td>Local news, sports, business, politics, entert...</td>\n      <td>NaN</td>\n      <td>29357</td>\n      <td>6720</td>\n      <td>2014-06-06</td>\n      <td>...</td>\n      <td>absent</td>\n      <td>absent</td>\n      <td>0.0</td>\n      <td>0.0</td>\n      <td>0.0</td>\n      <td>0.0</td>\n      <td>[news]</td>\n      <td>[http://bit.ly/1UZjOC3]</td>\n      <td>NaN</td>\n      <td>NaN</td>\n    </tr>\n    <tr>\n      <th>998</th>\n      <td>719905252732903424</td>\n      <td>2495567768</td>\n      <td>San Francisco Daily</td>\n      <td>DailySanFran</td>\n      <td>San Francisco, CA</td>\n      <td>Follow for San Francisco's breaking news, spec...</td>\n      <td>NaN</td>\n      <td>22688</td>\n      <td>8375</td>\n      <td>2014-05-15</td>\n      <td>...</td>\n      <td>absent</td>\n      <td>absent</td>\n      <td>0.0</td>\n      <td>0.0</td>\n      <td>0.0</td>\n      <td>1.0</td>\n      <td>[news]</td>\n      <td>[]</td>\n      <td>NaN</td>\n      <td>NaN</td>\n    </tr>\n    <tr>\n      <th>999</th>\n      <td>721180077917020160</td>\n      <td>2587843805</td>\n      <td>KansasCityDailyNews</td>\n      <td>KansasDailyNews</td>\n      <td>Kansas City, MO</td>\n      <td>Local news, sports, business, politics, entert...</td>\n      <td>NaN</td>\n      <td>29357</td>\n      <td>6720</td>\n      <td>2014-06-06</td>\n      <td>...</td>\n      <td>absent</td>\n      <td>absent</td>\n      <td>0.0</td>\n      <td>0.0</td>\n      <td>0.0</td>\n      <td>0.0</td>\n      <td>[news]</td>\n      <td>[http://bit.ly/1W5FfAk]</td>\n      <td>NaN</td>\n      <td>NaN</td>\n    </tr>\n  </tbody>\n</table>\n<p>1000 rows × 31 columns</p>\n</div>"
     },
     "metadata": {},
     "output_type": "execute_result",
     "execution_count": 8
    }
   ],
   "source": [
    "fileName = 'FNsample1'\n",
    "df = pd.read_csv(\"../../../data/raw/excel_files/\"+fileName+\".csv\")\n",
    "df"
   ],
   "metadata": {
    "collapsed": false,
    "pycharm": {
     "name": "#%%\n",
     "is_executing": false
    }
   }
  },
  {
   "cell_type": "code",
   "execution_count": null,
   "outputs": [],
   "source": [
    "\n"
   ],
   "metadata": {
    "collapsed": false,
    "pycharm": {
     "name": "#%%\n"
    }
   }
  },
  {
   "cell_type": "code",
   "execution_count": null,
   "outputs": [],
   "source": [
    "\n"
   ],
   "metadata": {
    "collapsed": false,
    "pycharm": {
     "name": "#%%\n"
    }
   }
  },
  {
   "cell_type": "code",
   "execution_count": null,
   "outputs": [],
   "source": [],
   "metadata": {
    "collapsed": false,
    "pycharm": {
     "name": "#%%"
    }
   }
  }
 ],
 "metadata": {
  "kernelspec": {
   "display_name": "Python 3",
   "language": "python",
   "name": "python3"
  },
  "language_info": {
   "codemirror_mode": {
    "name": "ipython",
    "version": 2
   },
   "file_extension": ".py",
   "mimetype": "text/x-python",
   "name": "python",
   "nbconvert_exporter": "python",
   "pygments_lexer": "ipython2",
   "version": "2.7.6"
  },
  "pycharm": {
   "stem_cell": {
    "cell_type": "raw",
    "source": [],
    "metadata": {
     "collapsed": false
    }
   }
  }
 },
 "nbformat": 4,
 "nbformat_minor": 0
}